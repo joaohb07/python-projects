{
 "cells": [
  {
   "cell_type": "markdown",
   "metadata": {},
   "source": [
    "# ***Netflix Data Analisys***"
   ]
  },
  {
   "cell_type": "code",
   "execution_count": 16,
   "metadata": {},
   "outputs": [],
   "source": [
    "import numpy as np # linear algebra\n",
    "import pandas as pd# data processing, CSV file I/O (e.g. pd.read_csv)\n",
    "\n",
    "netflix = pd.read_csv(\"netflix_titles.csv\")\n",
    "netflix.info()"
   ]
  },
  {
   "cell_type": "markdown",
   "metadata": {
    "papermill": {
     "duration": 0.013036,
     "end_time": "2021-01-04T17:21:48.690073",
     "exception": false,
     "start_time": "2021-01-04T17:21:48.677037",
     "status": "completed"
    },
    "tags": []
   },
   "source": [
    "## **Is Netflix has increasingly focusing on TV rather than movies in recent years?**"
   ]
  },
  {
   "cell_type": "markdown",
   "metadata": {
    "papermill": {
     "duration": 0.013601,
     "end_time": "2021-01-04T17:21:48.716912",
     "exception": false,
     "start_time": "2021-01-04T17:21:48.703311",
     "status": "completed"
    },
    "tags": []
   },
   "source": [
    "So, first of all we will pull up the csv file and show the first five columns of it to see how the file is organized."
   ]
  },
  {
   "cell_type": "code",
   "execution_count": 17,
   "metadata": {
    "execution": {
     "iopub.execute_input": "2021-01-04T17:21:48.750224Z",
     "iopub.status.busy": "2021-01-04T17:21:48.749459Z",
     "iopub.status.idle": "2021-01-04T17:21:48.866277Z",
     "shell.execute_reply": "2021-01-04T17:21:48.865732Z"
    },
    "papermill": {
     "duration": 0.136073,
     "end_time": "2021-01-04T17:21:48.866388",
     "exception": false,
     "start_time": "2021-01-04T17:21:48.730315",
     "status": "completed"
    },
    "tags": []
   },
   "outputs": [
    {
     "data": {
      "text/html": [
       "<div>\n",
       "<style scoped>\n",
       "    .dataframe tbody tr th:only-of-type {\n",
       "        vertical-align: middle;\n",
       "    }\n",
       "\n",
       "    .dataframe tbody tr th {\n",
       "        vertical-align: top;\n",
       "    }\n",
       "\n",
       "    .dataframe thead th {\n",
       "        text-align: right;\n",
       "    }\n",
       "</style>\n",
       "<table border=\"1\" class=\"dataframe\">\n",
       "  <thead>\n",
       "    <tr style=\"text-align: right;\">\n",
       "      <th></th>\n",
       "      <th>type</th>\n",
       "      <th>title</th>\n",
       "      <th>listed_in</th>\n",
       "      <th>description</th>\n",
       "    </tr>\n",
       "  </thead>\n",
       "  <tbody>\n",
       "    <tr>\n",
       "      <th>0</th>\n",
       "      <td>Movie</td>\n",
       "      <td>Norm of the North: King Sized Adventure</td>\n",
       "      <td>Children &amp; Family Movies, Comedies</td>\n",
       "      <td>Before planning an awesome wedding for his gra...</td>\n",
       "    </tr>\n",
       "    <tr>\n",
       "      <th>1</th>\n",
       "      <td>Movie</td>\n",
       "      <td>Jandino: Whatever it Takes</td>\n",
       "      <td>Stand-Up Comedy</td>\n",
       "      <td>Jandino Asporaat riffs on the challenges of ra...</td>\n",
       "    </tr>\n",
       "    <tr>\n",
       "      <th>2</th>\n",
       "      <td>TV Show</td>\n",
       "      <td>Transformers Prime</td>\n",
       "      <td>Kids' TV</td>\n",
       "      <td>With the help of three human allies, the Autob...</td>\n",
       "    </tr>\n",
       "    <tr>\n",
       "      <th>3</th>\n",
       "      <td>TV Show</td>\n",
       "      <td>Transformers: Robots in Disguise</td>\n",
       "      <td>Kids' TV</td>\n",
       "      <td>When a prison ship crash unleashes hundreds of...</td>\n",
       "    </tr>\n",
       "    <tr>\n",
       "      <th>4</th>\n",
       "      <td>Movie</td>\n",
       "      <td>#realityhigh</td>\n",
       "      <td>Comedies</td>\n",
       "      <td>When nerdy high schooler Dani finally attracts...</td>\n",
       "    </tr>\n",
       "  </tbody>\n",
       "</table>\n",
       "</div>"
      ],
      "text/plain": [
       "      type                                    title  \\\n",
       "0    Movie  Norm of the North: King Sized Adventure   \n",
       "1    Movie               Jandino: Whatever it Takes   \n",
       "2  TV Show                       Transformers Prime   \n",
       "3  TV Show         Transformers: Robots in Disguise   \n",
       "4    Movie                             #realityhigh   \n",
       "\n",
       "                            listed_in  \\\n",
       "0  Children & Family Movies, Comedies   \n",
       "1                     Stand-Up Comedy   \n",
       "2                            Kids' TV   \n",
       "3                            Kids' TV   \n",
       "4                            Comedies   \n",
       "\n",
       "                                         description  \n",
       "0  Before planning an awesome wedding for his gra...  \n",
       "1  Jandino Asporaat riffs on the challenges of ra...  \n",
       "2  With the help of three human allies, the Autob...  \n",
       "3  When a prison ship crash unleashes hundreds of...  \n",
       "4  When nerdy high schooler Dani finally attracts...  "
      ]
     },
     "execution_count": 17,
     "metadata": {},
     "output_type": "execute_result"
    }
   ],
   "source": [
    "netflix[['type', 'title', 'listed_in', 'description']].head()"
   ]
  },
  {
   "cell_type": "markdown",
   "metadata": {
    "papermill": {
     "duration": 0.0135,
     "end_time": "2021-01-04T17:21:48.894140",
     "exception": false,
     "start_time": "2021-01-04T17:21:48.880640",
     "status": "completed"
    },
    "tags": []
   },
   "source": [
    "And then, if we pull up the data of the type column and count all the movies and TV Shows, we will see that Netflix has more movies than TV shows on its catalog."
   ]
  },
  {
   "cell_type": "code",
   "execution_count": 18,
   "metadata": {
    "execution": {
     "iopub.execute_input": "2021-01-04T17:21:48.932278Z",
     "iopub.status.busy": "2021-01-04T17:21:48.931360Z",
     "iopub.status.idle": "2021-01-04T17:21:48.934454Z",
     "shell.execute_reply": "2021-01-04T17:21:48.935015Z"
    },
    "papermill": {
     "duration": 0.026641,
     "end_time": "2021-01-04T17:21:48.935154",
     "exception": false,
     "start_time": "2021-01-04T17:21:48.908513",
     "status": "completed"
    },
    "tags": []
   },
   "outputs": [
    {
     "data": {
      "text/plain": [
       "TV Show    1969\n",
       "Movie      4265\n",
       "Name: type, dtype: int64"
      ]
     },
     "execution_count": 18,
     "metadata": {},
     "output_type": "execute_result"
    }
   ],
   "source": [
    "netflix['type'].value_counts(ascending=True)"
   ]
  },
  {
   "cell_type": "markdown",
   "metadata": {
    "papermill": {
     "duration": 0.01418,
     "end_time": "2021-01-04T17:21:48.963657",
     "exception": false,
     "start_time": "2021-01-04T17:21:48.949477",
     "status": "completed"
    },
    "tags": []
   },
   "source": [
    "And by pulling up the data of added TV Shows and movies from 2018, 2019 and 2020, we will obtain the following numbers:"
   ]
  },
  {
   "cell_type": "code",
   "execution_count": 19,
   "metadata": {
    "execution": {
     "iopub.execute_input": "2021-01-04T17:21:49.001983Z",
     "iopub.status.busy": "2021-01-04T17:21:49.000933Z",
     "iopub.status.idle": "2021-01-04T17:21:49.035799Z",
     "shell.execute_reply": "2021-01-04T17:21:49.035232Z"
    },
    "papermill": {
     "duration": 0.057775,
     "end_time": "2021-01-04T17:21:49.035908",
     "exception": false,
     "start_time": "2021-01-04T17:21:48.978133",
     "status": "completed"
    },
    "tags": []
   },
   "outputs": [
    {
     "data": {
      "text/plain": [
       "date_added\n",
       "False    1467\n",
       "True      492\n",
       "dtype: int64"
      ]
     },
     "execution_count": 19,
     "metadata": {},
     "output_type": "execute_result"
    }
   ],
   "source": [
    "netflix[(netflix['type']=='TV Show')].value_counts(netflix['date_added'].str.contains('2020'))\n",
    "netflix[(netflix['type']=='TV Show')].value_counts(netflix['date_added'].str.contains('2019'))\n",
    "netflix[(netflix['type']=='TV Show')].value_counts(netflix['date_added'].str.contains('2018'))"
   ]
  },
  {
   "cell_type": "markdown",
   "metadata": {
    "papermill": {
     "duration": 0.014565,
     "end_time": "2021-01-04T17:21:49.065381",
     "exception": false,
     "start_time": "2021-01-04T17:21:49.050816",
     "status": "completed"
    },
    "tags": []
   },
   "source": [
    "> This code result means that 492 TV Shows were added in the analised years"
   ]
  },
  {
   "cell_type": "code",
   "execution_count": 20,
   "metadata": {
    "execution": {
     "iopub.execute_input": "2021-01-04T17:21:49.103962Z",
     "iopub.status.busy": "2021-01-04T17:21:49.103185Z",
     "iopub.status.idle": "2021-01-04T17:21:49.135801Z",
     "shell.execute_reply": "2021-01-04T17:21:49.136281Z"
    },
    "papermill": {
     "duration": 0.056147,
     "end_time": "2021-01-04T17:21:49.136432",
     "exception": false,
     "start_time": "2021-01-04T17:21:49.080285",
     "status": "completed"
    },
    "tags": []
   },
   "outputs": [
    {
     "data": {
      "text/plain": [
       "date_added\n",
       "False    2974\n",
       "True     1290\n",
       "dtype: int64"
      ]
     },
     "execution_count": 20,
     "metadata": {},
     "output_type": "execute_result"
    }
   ],
   "source": [
    "netflix[(netflix['type']=='Movie')].value_counts(netflix['date_added'].str.contains('2020'))\n",
    "netflix[(netflix['type']=='Movie')].value_counts(netflix['date_added'].str.contains('2019'))\n",
    "netflix[(netflix['type']=='Movie')].value_counts(netflix['date_added'].str.contains('2018'))"
   ]
  },
  {
   "cell_type": "markdown",
   "metadata": {
    "papermill": {
     "duration": 0.015103,
     "end_time": "2021-01-04T17:21:49.167631",
     "exception": false,
     "start_time": "2021-01-04T17:21:49.152528",
     "status": "completed"
    },
    "tags": []
   },
   "source": [
    "> This code result means that 1290 movies were added in the analised years"
   ]
  },
  {
   "cell_type": "markdown",
   "metadata": {
    "papermill": {
     "duration": 0.015047,
     "end_time": "2021-01-04T17:21:49.197984",
     "exception": false,
     "start_time": "2021-01-04T17:21:49.182937",
     "status": "completed"
    },
    "tags": []
   },
   "source": [
    "As we can see, Netflix added more movies than TV Shows in the analised years, but we have to considerate that many of the TV Shows has lots of seasons, so that doesn't mean that TV Shows are less relevant. And if we compare the numbers of TV shows uploaded in 2015,2016 and 2017 with the ones above, we will see that Netflix heavily increased the added TV Shows in its platform."
   ]
  },
  {
   "cell_type": "code",
   "execution_count": 21,
   "metadata": {
    "execution": {
     "iopub.execute_input": "2021-01-04T17:21:49.231829Z",
     "iopub.status.busy": "2021-01-04T17:21:49.231152Z",
     "iopub.status.idle": "2021-01-04T17:21:49.268219Z",
     "shell.execute_reply": "2021-01-04T17:21:49.267452Z"
    },
    "papermill": {
     "duration": 0.055007,
     "end_time": "2021-01-04T17:21:49.268341",
     "exception": false,
     "start_time": "2021-01-04T17:21:49.213334",
     "status": "completed"
    },
    "tags": []
   },
   "outputs": [
    {
     "data": {
      "text/plain": [
       "date_added\n",
       "False    1927\n",
       "True       32\n",
       "dtype: int64"
      ]
     },
     "execution_count": 21,
     "metadata": {},
     "output_type": "execute_result"
    }
   ],
   "source": [
    "netflix[(netflix['type']=='TV Show')].value_counts(netflix['date_added'].str.contains('2017'))\n",
    "netflix[(netflix['type']=='TV Show')].value_counts(netflix['date_added'].str.contains('2016'))\n",
    "netflix[(netflix['type']=='TV Show')].value_counts(netflix['date_added'].str.contains('2015'))"
   ]
  },
  {
   "cell_type": "markdown",
   "metadata": {
    "papermill": {
     "duration": 0.015608,
     "end_time": "2021-01-04T17:21:49.300071",
     "exception": false,
     "start_time": "2021-01-04T17:21:49.284463",
     "status": "completed"
    },
    "tags": []
   },
   "source": [
    "> This code result means that 32 TV Shows were added in the analised years"
   ]
  },
  {
   "cell_type": "markdown",
   "metadata": {
    "papermill": {
     "duration": 0.015619,
     "end_time": "2021-01-04T17:21:49.331615",
     "exception": false,
     "start_time": "2021-01-04T17:21:49.315996",
     "status": "completed"
    },
    "tags": []
   },
   "source": [
    "So in 2015,2016 and 2017 Netflix added only 32 TV Shows. And in 2018,2019 and 2020,the stream platform added 492 TV Shows, 15 times more than the other past 3 years.\n",
    "\n",
    "In conclusion Netflix has increased a lot the focus on TV Shows, although movies are the main focus of the stream service wich has added more than 1200 titles in the past three years. Therefore, Netflix didn't increased the focus on TV Shows rather than movies."
   ]
  },
  {
   "cell_type": "markdown",
   "metadata": {
    "papermill": {
     "duration": 0.015574,
     "end_time": "2021-01-04T17:21:49.363474",
     "exception": false,
     "start_time": "2021-01-04T17:21:49.347900",
     "status": "completed"
    },
    "tags": []
   },
   "source": [
    "## **What is the greatest number of seasons for a TV show on Netflix?**"
   ]
  },
  {
   "cell_type": "markdown",
   "metadata": {
    "papermill": {
     "duration": 0.015604,
     "end_time": "2021-01-04T17:21:49.395132",
     "exception": false,
     "start_time": "2021-01-04T17:21:49.379528",
     "status": "completed"
    },
    "tags": []
   },
   "source": [
    "Well, there is a lot of TV Shows with the same numbers of seasons, although there is only two TV Shows that are the biggest, as we can see bellow."
   ]
  },
  {
   "cell_type": "code",
   "execution_count": 22,
   "metadata": {
    "execution": {
     "iopub.execute_input": "2021-01-04T17:21:49.435421Z",
     "iopub.status.busy": "2021-01-04T17:21:49.434704Z",
     "iopub.status.idle": "2021-01-04T17:21:49.446686Z",
     "shell.execute_reply": "2021-01-04T17:21:49.447170Z"
    },
    "papermill": {
     "duration": 0.036471,
     "end_time": "2021-01-04T17:21:49.447332",
     "exception": false,
     "start_time": "2021-01-04T17:21:49.410861",
     "status": "completed"
    },
    "tags": []
   },
   "outputs": [
    {
     "data": {
      "text/plain": [
       "duration  \n",
       "14 Seasons       1\n",
       "12 Seasons       2\n",
       "13 Seasons       2\n",
       "15 Seasons       2\n",
       "10 Seasons       3\n",
       "11 Seasons       3\n",
       "9 Seasons        7\n",
       "8 Seasons       16\n",
       "7 Seasons       21\n",
       "6 Seasons       22\n",
       "5 Seasons       46\n",
       "4 Seasons       61\n",
       "3 Seasons      158\n",
       "2 Seasons      304\n",
       "1 Season      1321\n",
       "dtype: int64"
      ]
     },
     "execution_count": 22,
     "metadata": {},
     "output_type": "execute_result"
    }
   ],
   "source": [
    "netflix[(netflix['type']=='TV Show')].value_counts(['duration'], ascending=True)"
   ]
  },
  {
   "cell_type": "markdown",
   "metadata": {
    "papermill": {
     "duration": 0.016574,
     "end_time": "2021-01-04T17:21:49.480435",
     "exception": false,
     "start_time": "2021-01-04T17:21:49.463861",
     "status": "completed"
    },
    "tags": []
   },
   "source": [
    "> This code above counted the number of seasons of every TV Shows in the archive, by using value_counts command. "
   ]
  },
  {
   "cell_type": "markdown",
   "metadata": {
    "papermill": {
     "duration": 0.016142,
     "end_time": "2021-01-04T17:21:49.513028",
     "exception": false,
     "start_time": "2021-01-04T17:21:49.496886",
     "status": "completed"
    },
    "tags": []
   },
   "source": [
    "And if we select only the TV Shows that has more than 13 Seasons we will get the name and all the details of the biggest TV Shows in Netflix."
   ]
  },
  {
   "cell_type": "code",
   "execution_count": 23,
   "metadata": {
    "execution": {
     "iopub.execute_input": "2021-01-04T17:21:49.550654Z",
     "iopub.status.busy": "2021-01-04T17:21:49.549639Z",
     "iopub.status.idle": "2021-01-04T17:21:49.572516Z",
     "shell.execute_reply": "2021-01-04T17:21:49.571882Z"
    },
    "papermill": {
     "duration": 0.043189,
     "end_time": "2021-01-04T17:21:49.572641",
     "exception": false,
     "start_time": "2021-01-04T17:21:49.529452",
     "status": "completed"
    },
    "tags": []
   },
   "outputs": [
    {
     "data": {
      "text/html": [
       "<div>\n",
       "<style scoped>\n",
       "    .dataframe tbody tr th:only-of-type {\n",
       "        vertical-align: middle;\n",
       "    }\n",
       "\n",
       "    .dataframe tbody tr th {\n",
       "        vertical-align: top;\n",
       "    }\n",
       "\n",
       "    .dataframe thead th {\n",
       "        text-align: right;\n",
       "    }\n",
       "</style>\n",
       "<table border=\"1\" class=\"dataframe\">\n",
       "  <thead>\n",
       "    <tr style=\"text-align: right;\">\n",
       "      <th></th>\n",
       "      <th>title</th>\n",
       "      <th>duration</th>\n",
       "      <th>listed_in</th>\n",
       "      <th>description</th>\n",
       "    </tr>\n",
       "  </thead>\n",
       "  <tbody>\n",
       "    <tr>\n",
       "      <th>5787</th>\n",
       "      <td>Supernatural</td>\n",
       "      <td>14 Seasons</td>\n",
       "      <td>Classic &amp; Cult TV, TV Action &amp; Adventure, TV H...</td>\n",
       "      <td>Siblings Dean and Sam crisscross the country, ...</td>\n",
       "    </tr>\n",
       "    <tr>\n",
       "      <th>5908</th>\n",
       "      <td>Grey's Anatomy</td>\n",
       "      <td>15 Seasons</td>\n",
       "      <td>Romantic TV Shows, TV Dramas</td>\n",
       "      <td>Intern (and eventual resident) Meredith Grey f...</td>\n",
       "    </tr>\n",
       "    <tr>\n",
       "      <th>5974</th>\n",
       "      <td>NCIS</td>\n",
       "      <td>15 Seasons</td>\n",
       "      <td>Crime TV Shows, TV Dramas, TV Mysteries</td>\n",
       "      <td>Follow the quirky agents of the NCIS – the Nav...</td>\n",
       "    </tr>\n",
       "  </tbody>\n",
       "</table>\n",
       "</div>"
      ],
      "text/plain": [
       "               title    duration  \\\n",
       "5787    Supernatural  14 Seasons   \n",
       "5908  Grey's Anatomy  15 Seasons   \n",
       "5974            NCIS  15 Seasons   \n",
       "\n",
       "                                              listed_in  \\\n",
       "5787  Classic & Cult TV, TV Action & Adventure, TV H...   \n",
       "5908                       Romantic TV Shows, TV Dramas   \n",
       "5974            Crime TV Shows, TV Dramas, TV Mysteries   \n",
       "\n",
       "                                            description  \n",
       "5787  Siblings Dean and Sam crisscross the country, ...  \n",
       "5908  Intern (and eventual resident) Meredith Grey f...  \n",
       "5974  Follow the quirky agents of the NCIS – the Nav...  "
      ]
     },
     "execution_count": 23,
     "metadata": {},
     "output_type": "execute_result"
    }
   ],
   "source": [
    "netflix_biggest_shows = netflix[((netflix['type']=='TV Show') & (netflix['duration'] >= '13 Seasons '))].sort_values(['duration'], ascending=True)\n",
    "netflix_biggest_shows[['title', 'duration', 'listed_in', 'description']].head(3)"
   ]
  },
  {
   "cell_type": "markdown",
   "metadata": {
    "papermill": {
     "duration": 0.016767,
     "end_time": "2021-01-04T17:21:49.609110",
     "exception": false,
     "start_time": "2021-01-04T17:21:49.592343",
     "status": "completed"
    },
    "tags": []
   },
   "source": [
    "> This code above showed only the biggest TV Shows in the archive"
   ]
  },
  {
   "cell_type": "markdown",
   "metadata": {
    "papermill": {
     "duration": 0.016978,
     "end_time": "2021-01-04T17:21:49.643261",
     "exception": false,
     "start_time": "2021-01-04T17:21:49.626283",
     "status": "completed"
    },
    "tags": []
   },
   "source": [
    "Therefore, Grey's Anatomy and NCIS are the biggest TV Shows on netflix catalog with 15 seasons each as we can see by the data analisys above."
   ]
  }
 ],
 "metadata": {
  "kernelspec": {
   "display_name": "Python 3.7.13 64-bit",
   "language": "python",
   "name": "python3"
  },
  "language_info": {
   "codemirror_mode": {
    "name": "ipython",
    "version": 3
   },
   "file_extension": ".py",
   "mimetype": "text/x-python",
   "name": "python",
   "nbconvert_exporter": "python",
   "pygments_lexer": "ipython3",
   "version": "3.7.13"
  },
  "papermill": {
   "duration": 6.303343,
   "end_time": "2021-01-04T17:21:49.768474",
   "environment_variables": {},
   "exception": null,
   "input_path": "__notebook__.ipynb",
   "output_path": "__notebook__.ipynb",
   "parameters": {},
   "start_time": "2021-01-04T17:21:43.465131",
   "version": "2.1.0"
  },
  "vscode": {
   "interpreter": {
    "hash": "7a3d88c904243d2c3f246166597f86d1c0a39f3d97496d1fe394945d0c6d436d"
   }
  }
 },
 "nbformat": 4,
 "nbformat_minor": 4
}
