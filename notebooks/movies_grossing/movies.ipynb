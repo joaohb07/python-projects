{
 "cells": [
  {
   "cell_type": "markdown",
   "id": "ae7ffdca",
   "metadata": {},
   "source": [
    "# ***Highest Hollywood Grossing Movies***\n",
    "----\n",
    "This nootebook aims to answer the following questions based on the dataset ***highest holywood grossing movies***:\n",
    "1. [***What is the highest-grossing film of all time? What was the gross in dollars ($)?***](#what-is-the-highest-grossing-film-of-all-time-what-was-the-gross-in-dollars)\n",
    "2. [***What is the average runtime of Warner Bros.’s movies?***](#what-is-the-average-runtime-of-warner-bross-movies)\n",
    "3. [***If you were a great executive responsible for approving projects, which genre would you choose to maximize the most your profit?***](#if-you-were-a-great-executive-responsible-for-approving-projects-which-genre-would-you-choose-to-maximize-the-most-your-profit)"
   ]
  },
  {
   "cell_type": "code",
   "execution_count": 159,
   "id": "deb86f80",
   "metadata": {
    "execution": {
     "iopub.execute_input": "2022-02-22T19:28:16.941133Z",
     "iopub.status.busy": "2022-02-22T19:28:16.940073Z",
     "iopub.status.idle": "2022-02-22T19:28:16.994566Z",
     "shell.execute_reply": "2022-02-22T19:28:16.995003Z",
     "shell.execute_reply.started": "2022-02-22T19:26:58.010063Z"
    },
    "papermill": {
     "duration": 0.069606,
     "end_time": "2022-02-22T19:28:16.995198",
     "exception": false,
     "start_time": "2022-02-22T19:28:16.925592",
     "status": "completed"
    },
    "tags": []
   },
   "outputs": [
    {
     "name": "stdout",
     "output_type": "stream",
     "text": [
      "<class 'pandas.core.frame.DataFrame'>\n",
      "RangeIndex: 918 entries, 0 to 917\n",
      "Data columns (total 11 columns):\n",
      " #   Column                      Non-Null Count  Dtype \n",
      "---  ------                      --------------  ----- \n",
      " 0   Unnamed: 0                  918 non-null    int64 \n",
      " 1   Title                       918 non-null    object\n",
      " 2   Movie Info                  918 non-null    object\n",
      " 3   Distributor                 918 non-null    object\n",
      " 4   Release Date                800 non-null    object\n",
      " 5   Domestic Sales (in $)       918 non-null    int64 \n",
      " 6   International Sales (in $)  918 non-null    int64 \n",
      " 7   World Sales (in $)          918 non-null    int64 \n",
      " 8   Genre                       918 non-null    object\n",
      " 9   Movie Runtime               918 non-null    object\n",
      " 10  License                     744 non-null    object\n",
      "dtypes: int64(4), object(7)\n",
      "memory usage: 79.0+ KB\n"
     ]
    }
   ],
   "source": [
    "\n",
    "import numpy as np # linear algebra\n",
    "import pandas as pd # data processing, CSV file I/O (e.g. pd.read_csv)\n",
    "import matplotlib.pyplot as plt\n",
    "import seaborn as sns\n",
    "\n",
    "data = pd.read_csv('highest_holywood_grossing_movies.csv')\n",
    "data.info()"
   ]
  },
  {
   "cell_type": "markdown",
   "id": "8f7c5406",
   "metadata": {},
   "source": [
    "## ***What is the highest-grossing film of all time? What was the gross in dollars ($)?***\n",
    "----"
   ]
  },
  {
   "cell_type": "code",
   "execution_count": 160,
   "id": "dd77f665",
   "metadata": {},
   "outputs": [],
   "source": [
    "def currency(currency: float):\n",
    "    formatted_float = \"${:,.2f}\".format(currency)\n",
    "    return formatted_float"
   ]
  },
  {
   "cell_type": "code",
   "execution_count": 161,
   "id": "761caeb4",
   "metadata": {
    "execution": {
     "iopub.execute_input": "2022-02-22T19:28:17.022718Z",
     "iopub.status.busy": "2022-02-22T19:28:17.021640Z",
     "iopub.status.idle": "2022-02-22T19:28:17.044920Z",
     "shell.execute_reply": "2022-02-22T19:28:17.045372Z",
     "shell.execute_reply.started": "2022-02-22T19:26:58.042624Z"
    },
    "papermill": {
     "duration": 0.038759,
     "end_time": "2022-02-22T19:28:17.045574",
     "exception": false,
     "start_time": "2022-02-22T19:28:17.006815",
     "status": "completed"
    },
    "tags": []
   },
   "outputs": [
    {
     "data": {
      "text/html": [
       "<div>\n",
       "<style scoped>\n",
       "    .dataframe tbody tr th:only-of-type {\n",
       "        vertical-align: middle;\n",
       "    }\n",
       "\n",
       "    .dataframe tbody tr th {\n",
       "        vertical-align: top;\n",
       "    }\n",
       "\n",
       "    .dataframe thead th {\n",
       "        text-align: right;\n",
       "    }\n",
       "</style>\n",
       "<table border=\"1\" class=\"dataframe\">\n",
       "  <thead>\n",
       "    <tr style=\"text-align: right;\">\n",
       "      <th></th>\n",
       "      <th>Title</th>\n",
       "      <th>Domestic Sales (in $)</th>\n",
       "      <th>International Sales (in $)</th>\n",
       "      <th>World Sales (in $)</th>\n",
       "    </tr>\n",
       "  </thead>\n",
       "  <tbody>\n",
       "    <tr>\n",
       "      <th>2</th>\n",
       "      <td>Avatar (2009)</td>\n",
       "      <td>$760,507,625.00</td>\n",
       "      <td>$2,086,738,578.00</td>\n",
       "      <td>$2,847,246,203.00</td>\n",
       "    </tr>\n",
       "    <tr>\n",
       "      <th>1</th>\n",
       "      <td>Avengers: Endgame (2019)</td>\n",
       "      <td>$858,373,000.00</td>\n",
       "      <td>$1,939,128,328.00</td>\n",
       "      <td>$2,797,501,328.00</td>\n",
       "    </tr>\n",
       "    <tr>\n",
       "      <th>6</th>\n",
       "      <td>Titanic (1997)</td>\n",
       "      <td>$659,363,944.00</td>\n",
       "      <td>$1,542,283,320.00</td>\n",
       "      <td>$2,201,647,264.00</td>\n",
       "    </tr>\n",
       "  </tbody>\n",
       "</table>\n",
       "</div>"
      ],
      "text/plain": [
       "                      Title Domestic Sales (in $) International Sales (in $)  \\\n",
       "2             Avatar (2009)       $760,507,625.00          $2,086,738,578.00   \n",
       "1  Avengers: Endgame (2019)       $858,373,000.00          $1,939,128,328.00   \n",
       "6            Titanic (1997)       $659,363,944.00          $1,542,283,320.00   \n",
       "\n",
       "  World Sales (in $)  \n",
       "2  $2,847,246,203.00  \n",
       "1  $2,797,501,328.00  \n",
       "6  $2,201,647,264.00  "
      ]
     },
     "execution_count": 161,
     "metadata": {},
     "output_type": "execute_result"
    }
   ],
   "source": [
    "sort_by_grossing = data.sort_values(['World Sales (in $)'],ascending=False)\n",
    "sort_by_grossing['World Sales (in $)'] = pd.to_numeric(sort_by_grossing['World Sales (in $)'])\n",
    "sort_by_grossing['Domestic Sales (in $)'] = pd.to_numeric(sort_by_grossing['Domestic Sales (in $)'])\n",
    "sort_by_grossing['International Sales (in $)'] = pd.to_numeric(sort_by_grossing['International Sales (in $)'])\n",
    "\n",
    "sort_by_grossing['Domestic Sales (in $)'] = sort_by_grossing['Domestic Sales (in $)'].apply(currency)\n",
    "sort_by_grossing['International Sales (in $)'] = sort_by_grossing['International Sales (in $)'].apply(currency)\n",
    "sort_by_grossing['World Sales (in $)'] = sort_by_grossing['World Sales (in $)'].apply(currency)\n",
    "\n",
    "sort_by_grossing[['Title', 'Domestic Sales (in $)','International Sales (in $)','World Sales (in $)']].head(3)"
   ]
  },
  {
   "cell_type": "markdown",
   "id": "20bb50e2",
   "metadata": {},
   "source": [
    "## ***What is the average runtime of Warner Bros.’s movies?***\n",
    "----"
   ]
  },
  {
   "cell_type": "code",
   "execution_count": 162,
   "id": "a4f4ccec",
   "metadata": {
    "execution": {
     "iopub.execute_input": "2022-02-22T19:28:17.078334Z",
     "iopub.status.busy": "2022-02-22T19:28:17.077211Z",
     "iopub.status.idle": "2022-02-22T19:28:17.079136Z",
     "shell.execute_reply": "2022-02-22T19:28:17.079714Z",
     "shell.execute_reply.started": "2022-02-22T19:26:58.059606Z"
    },
    "papermill": {
     "duration": 0.022176,
     "end_time": "2022-02-22T19:28:17.079897",
     "exception": false,
     "start_time": "2022-02-22T19:28:17.057721",
     "status": "completed"
    },
    "tags": []
   },
   "outputs": [],
   "source": [
    "#data treatment -> total minutes\n",
    "def time_conv(time: str):\n",
    "    # Convert runtimes to minute\n",
    "    time = time.split(' ')\n",
    "    length = len(time)\n",
    "\n",
    "    if length == 4:\n",
    "        hour, minute = int(time[0]), int(time[2])\n",
    "        return hour*60 + minute\n",
    "    elif length == 2:\n",
    "        minute = int(time[0])\n",
    "        return minute*60"
   ]
  },
  {
   "cell_type": "code",
   "execution_count": 163,
   "id": "9f28dee8",
   "metadata": {
    "execution": {
     "iopub.execute_input": "2022-02-22T19:28:17.110690Z",
     "iopub.status.busy": "2022-02-22T19:28:17.109665Z",
     "iopub.status.idle": "2022-02-22T19:28:17.126502Z",
     "shell.execute_reply": "2022-02-22T19:28:17.127101Z",
     "shell.execute_reply.started": "2022-02-22T19:26:58.066371Z"
    },
    "papermill": {
     "duration": 0.035382,
     "end_time": "2022-02-22T19:28:17.127285",
     "exception": false,
     "start_time": "2022-02-22T19:28:17.091903",
     "status": "completed"
    },
    "tags": []
   },
   "outputs": [
    {
     "data": {
      "text/html": [
       "<div>\n",
       "<style scoped>\n",
       "    .dataframe tbody tr th:only-of-type {\n",
       "        vertical-align: middle;\n",
       "    }\n",
       "\n",
       "    .dataframe tbody tr th {\n",
       "        vertical-align: top;\n",
       "    }\n",
       "\n",
       "    .dataframe thead th {\n",
       "        text-align: right;\n",
       "    }\n",
       "</style>\n",
       "<table border=\"1\" class=\"dataframe\">\n",
       "  <thead>\n",
       "    <tr style=\"text-align: right;\">\n",
       "      <th></th>\n",
       "      <th>Title</th>\n",
       "      <th>Distributor</th>\n",
       "      <th>Movie Runtime</th>\n",
       "    </tr>\n",
       "  </thead>\n",
       "  <tbody>\n",
       "    <tr>\n",
       "      <th>0</th>\n",
       "      <td>Star Wars: Episode VII - The Force Awakens (2015)</td>\n",
       "      <td>Walt Disney Studios Motion Pictures</td>\n",
       "      <td>138</td>\n",
       "    </tr>\n",
       "    <tr>\n",
       "      <th>1</th>\n",
       "      <td>Avengers: Endgame (2019)</td>\n",
       "      <td>Walt Disney Studios Motion Pictures</td>\n",
       "      <td>181</td>\n",
       "    </tr>\n",
       "    <tr>\n",
       "      <th>2</th>\n",
       "      <td>Avatar (2009)</td>\n",
       "      <td>Twentieth Century Fox</td>\n",
       "      <td>162</td>\n",
       "    </tr>\n",
       "  </tbody>\n",
       "</table>\n",
       "</div>"
      ],
      "text/plain": [
       "                                               Title  \\\n",
       "0  Star Wars: Episode VII - The Force Awakens (2015)   \n",
       "1                           Avengers: Endgame (2019)   \n",
       "2                                      Avatar (2009)   \n",
       "\n",
       "                           Distributor  Movie Runtime  \n",
       "0  Walt Disney Studios Motion Pictures            138  \n",
       "1  Walt Disney Studios Motion Pictures            181  \n",
       "2                Twentieth Century Fox            162  "
      ]
     },
     "execution_count": 163,
     "metadata": {},
     "output_type": "execute_result"
    }
   ],
   "source": [
    "#Converting string runtime into minutes\n",
    "data[\"Movie Runtime\"] = data[\"Movie Runtime\"].apply(time_conv)\n",
    "data[['Title','Distributor','Movie Runtime']].head(3)"
   ]
  },
  {
   "cell_type": "code",
   "execution_count": 164,
   "id": "c8e92288",
   "metadata": {
    "execution": {
     "iopub.execute_input": "2022-02-22T19:28:17.156801Z",
     "iopub.status.busy": "2022-02-22T19:28:17.155795Z",
     "iopub.status.idle": "2022-02-22T19:28:17.164102Z",
     "shell.execute_reply": "2022-02-22T19:28:17.164584Z",
     "shell.execute_reply.started": "2022-02-22T19:26:58.091584Z"
    },
    "papermill": {
     "duration": 0.024716,
     "end_time": "2022-02-22T19:28:17.164775",
     "exception": false,
     "start_time": "2022-02-22T19:28:17.140059",
     "status": "completed"
    },
    "tags": []
   },
   "outputs": [
    {
     "name": "stdout",
     "output_type": "stream",
     "text": [
      "Total movies:\n",
      "\n",
      "158\n"
     ]
    }
   ],
   "source": [
    "#Counting warner bros movies \n",
    "warner_bros_movies = data[data['Distributor']==\"Warner Bros.\"]\n",
    "print(\"Total movies:\\n\")\n",
    "print(warner_bros_movies[\"Distributor\"].count())\n",
    "total_movies = warner_bros_movies[\"Distributor\"].count()"
   ]
  },
  {
   "cell_type": "code",
   "execution_count": 165,
   "id": "ccd20af8",
   "metadata": {
    "execution": {
     "iopub.execute_input": "2022-02-22T19:28:17.196389Z",
     "iopub.status.busy": "2022-02-22T19:28:17.195337Z",
     "iopub.status.idle": "2022-02-22T19:28:17.201227Z",
     "shell.execute_reply": "2022-02-22T19:28:17.201782Z",
     "shell.execute_reply.started": "2022-02-22T19:26:58.101270Z"
    },
    "papermill": {
     "duration": 0.024322,
     "end_time": "2022-02-22T19:28:17.202007",
     "exception": false,
     "start_time": "2022-02-22T19:28:17.177685",
     "status": "completed"
    },
    "tags": []
   },
   "outputs": [
    {
     "name": "stdout",
     "output_type": "stream",
     "text": [
      "Total time(in minutes):\n",
      "\n",
      "19360\n"
     ]
    }
   ],
   "source": [
    "#Sum duration time in minutes from warner bros movies\n",
    "total_duration_minutes = warner_bros_movies[\"Movie Runtime\"].sum()\n",
    "print(\"Total time(in minutes):\\n\")\n",
    "print(total_duration_minutes)"
   ]
  },
  {
   "cell_type": "code",
   "execution_count": 166,
   "id": "6fa0015f",
   "metadata": {
    "execution": {
     "iopub.execute_input": "2022-02-22T19:28:17.235539Z",
     "iopub.status.busy": "2022-02-22T19:28:17.234825Z",
     "iopub.status.idle": "2022-02-22T19:28:17.237560Z",
     "shell.execute_reply": "2022-02-22T19:28:17.238036Z",
     "shell.execute_reply.started": "2022-02-22T19:26:58.110704Z"
    },
    "papermill": {
     "duration": 0.02275,
     "end_time": "2022-02-22T19:28:17.238222",
     "exception": false,
     "start_time": "2022-02-22T19:28:17.215472",
     "status": "completed"
    },
    "tags": []
   },
   "outputs": [
    {
     "name": "stdout",
     "output_type": "stream",
     "text": [
      "Warner Bros.'s movies average time:\n",
      "\n",
      "2 Hours 02 minutes\n"
     ]
    }
   ],
   "source": [
    "#Calculating average time in minutes\n",
    "time_average = total_duration_minutes/total_movies\n",
    "#print(time_average)\n",
    "hours = time_average//60\n",
    "minutes = time_average % 60\n",
    "# seconds = time_average * 60\n",
    "\n",
    "print(\"Warner Bros.'s movies average time:\\n\")\n",
    "print(\"%d Hours %02d minutes\" % (hours, minutes))"
   ]
  },
  {
   "cell_type": "markdown",
   "id": "27fb1fd9",
   "metadata": {},
   "source": [
    "## ***If you were a great executive responsible for approving projects, which genre would you choose to maximize the most your profit?***\n",
    "----"
   ]
  },
  {
   "cell_type": "code",
   "execution_count": 167,
   "id": "6dae07ed",
   "metadata": {
    "execution": {
     "iopub.execute_input": "2022-02-22T19:28:17.271886Z",
     "iopub.status.busy": "2022-02-22T19:28:17.271216Z",
     "iopub.status.idle": "2022-02-22T19:28:17.274286Z",
     "shell.execute_reply": "2022-02-22T19:28:17.273687Z",
     "shell.execute_reply.started": "2022-02-22T19:26:58.124618Z"
    },
    "papermill": {
     "duration": 0.022524,
     "end_time": "2022-02-22T19:28:17.274450",
     "exception": false,
     "start_time": "2022-02-22T19:28:17.251926",
     "status": "completed"
    },
    "tags": []
   },
   "outputs": [],
   "source": [
    "gb_genre = data.groupby('Genre')"
   ]
  },
  {
   "cell_type": "code",
   "execution_count": 168,
   "id": "fb224f30",
   "metadata": {
    "execution": {
     "iopub.execute_input": "2022-02-22T19:28:17.311439Z",
     "iopub.status.busy": "2022-02-22T19:28:17.310008Z",
     "iopub.status.idle": "2022-02-22T19:28:17.317126Z",
     "shell.execute_reply": "2022-02-22T19:28:17.317649Z",
     "shell.execute_reply.started": "2022-02-22T19:26:58.180498Z"
    },
    "papermill": {
     "duration": 0.029554,
     "end_time": "2022-02-22T19:28:17.317873",
     "exception": false,
     "start_time": "2022-02-22T19:28:17.288319",
     "status": "completed"
    },
    "tags": []
   },
   "outputs": [],
   "source": [
    "most_sales_genre = gb_genre.sum().sort_values('World Sales (in $)', ascending=False)[:10]"
   ]
  },
  {
   "cell_type": "code",
   "execution_count": 169,
   "id": "9c177b38",
   "metadata": {
    "execution": {
     "iopub.execute_input": "2022-02-22T19:28:17.357170Z",
     "iopub.status.busy": "2022-02-22T19:28:17.353955Z",
     "iopub.status.idle": "2022-02-22T19:28:17.628153Z",
     "shell.execute_reply": "2022-02-22T19:28:17.627419Z",
     "shell.execute_reply.started": "2022-02-22T19:26:58.192783Z"
    },
    "papermill": {
     "duration": 0.296118,
     "end_time": "2022-02-22T19:28:17.628306",
     "exception": false,
     "start_time": "2022-02-22T19:28:17.332188",
     "status": "completed"
    },
    "tags": []
   },
   "outputs": [
    {
     "data": {
      "image/png": "[encoded data removed]",
      "text/plain": [
       "<Figure size 720x792 with 1 Axes>"
      ]
     },
     "metadata": {},
     "output_type": "display_data"
    }
   ],
   "source": [
    "fig, ax = plt.subplots(figsize=(10, 11))\n",
    "\n",
    "sns.set_theme(palette='Set2')\n",
    "sns.barplot(ax=ax, x=most_sales_genre['World Sales (in $)'], y=most_sales_genre.index)\n",
    "\n",
    "ax.set_title('Top 10 Genres by World Sales', fontsize=20, pad=10)\n",
    "ax.set_xlabel('World Sales', fontdict={'fontsize': 13}, labelpad=10)\n",
    "ax.set_ylabel('Genres', fontdict={'fontsize': 13}, labelpad=10)\n",
    "ax.xaxis.set_major_formatter(lambda x, pos: f'{int(x)/1_000_000_000}B')\n",
    "\n",
    "plt.show()"
   ]
  }
 ],
 "metadata": {
  "kernelspec": {
   "display_name": "Python 3.7.13 64-bit",
   "language": "python",
   "name": "python3"
  },
  "language_info": {
   "codemirror_mode": {
    "name": "ipython",
    "version": 3
   },
   "file_extension": ".py",
   "mimetype": "text/x-python",
   "name": "python",
   "nbconvert_exporter": "python",
   "pygments_lexer": "ipython3",
   "version": "3.7.13"
  },
  "papermill": {
   "default_parameters": {},
   "duration": 12.564478,
   "end_time": "2022-02-22T19:28:18.636916",
   "environment_variables": {},
   "exception": null,
   "input_path": "__notebook__.ipynb",
   "output_path": "__notebook__.ipynb",
   "parameters": {},
   "start_time": "2022-02-22T19:28:06.072438",
   "version": "2.3.3"
  },
  "vscode": {
   "interpreter": {
    "hash": "7a3d88c904243d2c3f246166597f86d1c0a39f3d97496d1fe394945d0c6d436d"
   }
  }
 },
 "nbformat": 4,
 "nbformat_minor": 5
}
